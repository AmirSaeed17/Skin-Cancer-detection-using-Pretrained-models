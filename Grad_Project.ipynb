{
  "cells": [
    {
      "cell_type": "markdown",
      "metadata": {
        "id": "N3DXxmfFXkcQ"
      },
      "source": [
        "mounting drive\n"
      ]
    },
    {
      "cell_type": "code",
      "execution_count": null,
      "metadata": {
        "id": "r_3uWU3C2pl2",
        "colab": {
          "base_uri": "https://localhost:8080/"
        },
        "outputId": "9c69eacd-452a-4c91-8d55-d8b3455bcda8"
      },
      "outputs": [
        {
          "output_type": "stream",
          "name": "stdout",
          "text": [
            "Mounted at /content/drive\n"
          ]
        }
      ],
      "source": [
        "from google.colab import drive\n",
        "drive.mount('/content/drive')"
      ]
    },
    {
      "cell_type": "markdown",
      "metadata": {
        "id": "c89tx2k_XtbI"
      },
      "source": [
        "importing liberaries"
      ]
    },
    {
      "cell_type": "code",
      "execution_count": null,
      "metadata": {
        "id": "IrPWdP4_18cw"
      },
      "outputs": [],
      "source": [
        "import numpy as np\n",
        "import keras\n",
        "import cv2\n",
        "import os\n",
        "from keras.preprocessing import image\n",
        "from tensorflow.keras.optimizers import Adam\n",
        "from matplotlib import pyplot as plt\n",
        "import tensorflow as tf\n",
        "from tensorflow.keras.models import Sequential\n",
        "from tensorflow.keras.layers import Dense, Dropout, Activation, Flatten\n",
        "from tensorflow.keras.layers import Input, Conv2D, MaxPooling2D , BatchNormalization\n",
        "from tensorflow.keras import layers\n",
        "from PIL import Image\n",
        "from tensorflow.keras.applications.resnet50 import ResNet50"
      ]
    },
    {
      "cell_type": "markdown",
      "metadata": {
        "id": "8do7LYyxXa99"
      },
      "source": [
        "1- joining path by category\n",
        "2- converting dataset folder to list\n",
        "3-reading image\n",
        "4- converting to greyscale\n",
        "5- hair removal\n",
        "6- image enhancement"
      ]
    },
    {
      "cell_type": "code",
      "execution_count": null,
      "metadata": {
        "id": "-lyzMdJlxET1"
      },
      "outputs": [],
      "source": [
        "# Directory path of the data set\n",
        "DATADIR = \"/content/drive/MyDrive/train\"\n",
        "# a list of the two categories of the skin cancer\n",
        "CATEGORIES = [\"benign\", \"malignant\"]\n",
        "training_data = []\n",
        "\n",
        "\n",
        "kernel = np.array([[0, -1, 0],\n",
        "                   [-1, 5,-1],\n",
        "                   [0, -1, 0]])\n",
        "\n",
        "IMG_SIZE = 224\n",
        "\n",
        "kernel_hair = cv2.getStructuringElement(1,(17,17))\n",
        "\n",
        "# a loop for iterating over each type of skin cancer\n",
        "for category in CATEGORIES:\n",
        "    # joining the path of data set with categories\n",
        "    path = os.path.join(DATADIR,category)\n",
        "    class_num = CATEGORIES.index(category)\n",
        "\n",
        "    # loop for iterating over the images in the benign/malignant directory\n",
        "    # by converting the directory content into list\n",
        "    for img in os.listdir(path):\n",
        "        #reading the image by joining its benign path with name of image\n",
        "        img_array = cv2.imread(os.path.join(path,img))\n",
        "\n",
        "        new_array = cv2.resize(img_array, (IMG_SIZE, IMG_SIZE))\n",
        "\n",
        "        new_array = cv2.cvtColor(new_array,cv2.COLOR_BGR2RGB)\n",
        "\n",
        "        # hair removal stage\n",
        "        grayScale = cv2.cvtColor(new_array, cv2.COLOR_RGB2GRAY)\n",
        "\n",
        "        blackhat = cv2.morphologyEx(grayScale, cv2.MORPH_BLACKHAT, kernel_hair)\n",
        "\n",
        "        ret,threshold = cv2.threshold(blackhat,10,255,cv2.THRESH_BINARY)\n",
        "\n",
        "        final_image = cv2.inpaint(new_array,threshold,1,cv2.INPAINT_TELEA)\n",
        "\n",
        "        img_sharp = cv2.filter2D(src=final_image, ddepth=-1, kernel=kernel)\n",
        "        #fixing the size of the whole images in the directory\n",
        "\n",
        "        training_data.append([img_sharp, class_num])\n",
        "\n",
        "\n"
      ]
    },
    {
      "cell_type": "markdown",
      "metadata": {
        "id": "hx7lMeRAc_Dw"
      },
      "source": []
    },
    {
      "cell_type": "code",
      "execution_count": null,
      "metadata": {
        "colab": {
          "base_uri": "https://localhost:8080/"
        },
        "id": "pHGJYK6A5FaC",
        "outputId": "243e3a86-08a9-4c59-90bf-b8ef26f79f67"
      },
      "outputs": [
        {
          "output_type": "execute_result",
          "data": {
            "text/plain": [
              "(6670, 224, 224, 3)"
            ]
          },
          "metadata": {},
          "execution_count": 8
        }
      ],
      "source": [
        "\n",
        "import random\n",
        "\n",
        "random.shuffle(training_data)\n",
        "\n",
        "X = []\n",
        "y = []\n",
        "\n",
        "for features,label in training_data:\n",
        "    X.append(features)\n",
        "    y.append(label)\n",
        "\n",
        "\n",
        "X = np.array(X).reshape(-1 ,224 , 224, 3)\n",
        "X.shape\n"
      ]
    },
    {
      "cell_type": "code",
      "execution_count": null,
      "metadata": {
        "colab": {
          "base_uri": "https://localhost:8080/"
        },
        "id": "MhimEVr2wJWa",
        "outputId": "86384f6c-6730-4406-ef00-4edd5c6f982d"
      },
      "outputs": [
        {
          "output_type": "stream",
          "name": "stdout",
          "text": [
            "4669\n",
            "2001\n"
          ]
        }
      ],
      "source": [
        "from sklearn.model_selection import train_test_split\n",
        "X_train, X_test, y_train, y_test = train_test_split(\n",
        "                            X, y, test_size=0.3, random_state=42)\n",
        "print(len(X_train))\n",
        "print(len(X_test))"
      ]
    },
    {
      "cell_type": "code",
      "execution_count": null,
      "metadata": {
        "id": "yFesbI0stGpy"
      },
      "outputs": [],
      "source": [
        "from keras.callbacks import ReduceLROnPlateau\n",
        "from keras.callbacks import EarlyStopping\n",
        "\n",
        "learning_rate_reduction = ReduceLROnPlateau(monitor='val_accuracy',\n",
        "                                            patience=3,\n",
        "                                            verbose=1,\n",
        "                                            factor=0.5,\n",
        "                                            min_lr=1e-7)\n",
        "\n",
        "custom_early_stopping = EarlyStopping(\n",
        "                                      monitor='val_loss',\n",
        "                                      patience=10,\n",
        "                                      restore_best_weights=True,\n",
        "                                      mode= 'min'\n",
        "                                  )\n",
        "\n",
        "# Data auguments\n",
        "datagen = image.ImageDataGenerator(\n",
        "                                   rotation_range = 12,\n",
        "                                   horizontal_flip = True,\n",
        "                                   vertical_flip= True\n",
        "                                   )"
      ]
    },
    {
      "cell_type": "code",
      "execution_count": null,
      "metadata": {
        "id": "X5wUcPlYQ_XE"
      },
      "outputs": [],
      "source": [
        "import pickle\n",
        "'''\n",
        "Xtrain = open(\"/content/drive/MyDrive/X_train2RGB.pickle\",\"wb\")\n",
        "pickle.dump(X_train, Xtrain)\n",
        "Xtrain.close()\n",
        "ytrain = open(\"/content/drive/MyDrive/y_train2RGB.pickle\",\"wb\")\n",
        "pickle.dump(y_train, ytrain)\n",
        "ytrain.close()\n",
        "Xtest = open(\"/content/drive/MyDrive/X_test2RGB.pickle\",\"wb\")\n",
        "pickle.dump(X_test, Xtest)\n",
        "Xtest.close()\n",
        "ytest = open(\"/content/drive/MyDrive/y_test2RGB.pickle\",\"wb\")\n",
        "pickle.dump(y_test, ytest)\n",
        "ytest.close()\n",
        "'''\n"
      ]
    },
    {
      "cell_type": "code",
      "execution_count": null,
      "metadata": {
        "id": "T0mVbNcqtSYY"
      },
      "outputs": [],
      "source": [
        "import pickle\n",
        "\n",
        "\n",
        "pickle_Xtrain = open(\"/content/drive/MyDrive/X_train2RGB.pickle\",\"rb\")\n",
        "X_train = pickle.load(pickle_Xtrain)\n",
        "\n",
        "pickle_ytrain = open(\"/content/drive/MyDrive/y_train2RGB.pickle\",\"rb\")\n",
        "y_train = pickle.load(pickle_ytrain)\n",
        "\n",
        "pickle_Xtest = open(\"/content/drive/MyDrive/X_test2RGB.pickle\",\"rb\")\n",
        "X_test = pickle.load( pickle_Xtest)\n",
        "\n",
        "pickle_ytest = open(\"/content/drive/MyDrive/y_test2RGB.pickle\",\"rb\")\n",
        "y_test = pickle.load(pickle_ytest)\n",
        "\n"
      ]
    },
    {
      "cell_type": "code",
      "execution_count": null,
      "metadata": {
        "colab": {
          "base_uri": "https://localhost:8080/"
        },
        "id": "6sHraRmnOY9X",
        "outputId": "58ebbbf8-741e-4ac2-baf4-3189e9484ec3"
      },
      "outputs": [
        {
          "output_type": "stream",
          "name": "stdout",
          "text": [
            "Epoch 1/70\n"
          ]
        },
        {
          "output_type": "stream",
          "name": "stderr",
          "text": [
            "/usr/local/lib/python3.7/dist-packages/tensorflow/python/util/dispatch.py:1082: UserWarning: \"`sparse_categorical_crossentropy` received `from_logits=True`, but the `output` argument was produced by a sigmoid or softmax activation and thus does not represent logits. Was this intended?\"\n",
            "  return dispatch_target(*args, **kwargs)\n"
          ]
        },
        {
          "output_type": "stream",
          "name": "stdout",
          "text": [
            "73/73 [==============================] - 115s 1s/step - loss: 0.5714 - accuracy: 0.7695 - val_loss: 0.5191 - val_accuracy: 0.7556 - lr: 1.0000e-05\n",
            "Epoch 2/70\n",
            "73/73 [==============================] - 78s 1s/step - loss: 0.4378 - accuracy: 0.7695 - val_loss: 0.4035 - val_accuracy: 0.7556 - lr: 1.0000e-05\n",
            "Epoch 3/70\n",
            "73/73 [==============================] - 78s 1s/step - loss: 0.3508 - accuracy: 0.8295 - val_loss: 0.3766 - val_accuracy: 0.8071 - lr: 1.0000e-05\n",
            "Epoch 4/70\n",
            "73/73 [==============================] - 79s 1s/step - loss: 0.2910 - accuracy: 0.8788 - val_loss: 0.2559 - val_accuracy: 0.8881 - lr: 1.0000e-05\n",
            "Epoch 5/70\n",
            "73/73 [==============================] - 79s 1s/step - loss: 0.2557 - accuracy: 0.8888 - val_loss: 0.2290 - val_accuracy: 0.9045 - lr: 1.0000e-05\n",
            "Epoch 6/70\n",
            "73/73 [==============================] - 79s 1s/step - loss: 0.2377 - accuracy: 0.8957 - val_loss: 0.2220 - val_accuracy: 0.9065 - lr: 1.0000e-05\n",
            "Epoch 7/70\n",
            "73/73 [==============================] - 78s 1s/step - loss: 0.2443 - accuracy: 0.8923 - val_loss: 0.2427 - val_accuracy: 0.8931 - lr: 1.0000e-05\n",
            "Epoch 8/70\n",
            "73/73 [==============================] - 78s 1s/step - loss: 0.2263 - accuracy: 0.9010 - val_loss: 0.2130 - val_accuracy: 0.9085 - lr: 1.0000e-05\n",
            "Epoch 9/70\n",
            "73/73 [==============================] - 78s 1s/step - loss: 0.2195 - accuracy: 0.9051 - val_loss: 0.2242 - val_accuracy: 0.9035 - lr: 1.0000e-05\n",
            "Epoch 10/70\n",
            "73/73 [==============================] - 79s 1s/step - loss: 0.2216 - accuracy: 0.9047 - val_loss: 0.2163 - val_accuracy: 0.9070 - lr: 1.0000e-05\n",
            "Epoch 11/70\n",
            "73/73 [==============================] - 79s 1s/step - loss: 0.2126 - accuracy: 0.9096 - val_loss: 0.2127 - val_accuracy: 0.9120 - lr: 1.0000e-05\n",
            "Epoch 12/70\n",
            "73/73 [==============================] - 79s 1s/step - loss: 0.2090 - accuracy: 0.9100 - val_loss: 0.1968 - val_accuracy: 0.9165 - lr: 1.0000e-05\n",
            "Epoch 13/70\n",
            "73/73 [==============================] - 78s 1s/step - loss: 0.2030 - accuracy: 0.9122 - val_loss: 0.2256 - val_accuracy: 0.8981 - lr: 1.0000e-05\n",
            "Epoch 14/70\n",
            "73/73 [==============================] - 79s 1s/step - loss: 0.2002 - accuracy: 0.9178 - val_loss: 0.1936 - val_accuracy: 0.9180 - lr: 1.0000e-05\n",
            "Epoch 15/70\n",
            "73/73 [==============================] - 78s 1s/step - loss: 0.1955 - accuracy: 0.9195 - val_loss: 0.2031 - val_accuracy: 0.9105 - lr: 1.0000e-05\n",
            "Epoch 16/70\n",
            "73/73 [==============================] - 79s 1s/step - loss: 0.1913 - accuracy: 0.9195 - val_loss: 0.2004 - val_accuracy: 0.9145 - lr: 1.0000e-05\n",
            "Epoch 17/70\n",
            "73/73 [==============================] - ETA: 0s - loss: 0.1945 - accuracy: 0.9212\n",
            "Epoch 17: ReduceLROnPlateau reducing learning rate to 4.999999873689376e-06.\n",
            "73/73 [==============================] - 79s 1s/step - loss: 0.1945 - accuracy: 0.9212 - val_loss: 0.2159 - val_accuracy: 0.9010 - lr: 1.0000e-05\n",
            "Epoch 18/70\n",
            "73/73 [==============================] - 78s 1s/step - loss: 0.1818 - accuracy: 0.9250 - val_loss: 0.2072 - val_accuracy: 0.9120 - lr: 5.0000e-06\n",
            "Epoch 19/70\n",
            "73/73 [==============================] - 79s 1s/step - loss: 0.1776 - accuracy: 0.9272 - val_loss: 0.1867 - val_accuracy: 0.9175 - lr: 5.0000e-06\n",
            "Epoch 20/70\n",
            "73/73 [==============================] - ETA: 0s - loss: 0.1747 - accuracy: 0.9278\n",
            "Epoch 20: ReduceLROnPlateau reducing learning rate to 2.499999936844688e-06.\n",
            "73/73 [==============================] - 79s 1s/step - loss: 0.1747 - accuracy: 0.9278 - val_loss: 0.1915 - val_accuracy: 0.9170 - lr: 5.0000e-06\n",
            "Epoch 21/70\n",
            "73/73 [==============================] - 79s 1s/step - loss: 0.1653 - accuracy: 0.9295 - val_loss: 0.1789 - val_accuracy: 0.9240 - lr: 2.5000e-06\n",
            "Epoch 22/70\n",
            "73/73 [==============================] - 79s 1s/step - loss: 0.1644 - accuracy: 0.9332 - val_loss: 0.1872 - val_accuracy: 0.9190 - lr: 2.5000e-06\n",
            "Epoch 23/70\n",
            "73/73 [==============================] - 79s 1s/step - loss: 0.1600 - accuracy: 0.9332 - val_loss: 0.1862 - val_accuracy: 0.9175 - lr: 2.5000e-06\n",
            "Epoch 24/70\n",
            "73/73 [==============================] - ETA: 0s - loss: 0.1588 - accuracy: 0.9347\n",
            "Epoch 24: ReduceLROnPlateau reducing learning rate to 1.249999968422344e-06.\n",
            "73/73 [==============================] - 79s 1s/step - loss: 0.1588 - accuracy: 0.9347 - val_loss: 0.1825 - val_accuracy: 0.9220 - lr: 2.5000e-06\n",
            "Epoch 25/70\n",
            "73/73 [==============================] - 79s 1s/step - loss: 0.1569 - accuracy: 0.9357 - val_loss: 0.1736 - val_accuracy: 0.9245 - lr: 1.2500e-06\n",
            "Epoch 26/70\n",
            "73/73 [==============================] - 79s 1s/step - loss: 0.1576 - accuracy: 0.9332 - val_loss: 0.1771 - val_accuracy: 0.9210 - lr: 1.2500e-06\n",
            "Epoch 27/70\n",
            "73/73 [==============================] - 79s 1s/step - loss: 0.1568 - accuracy: 0.9357 - val_loss: 0.1733 - val_accuracy: 0.9245 - lr: 1.2500e-06\n",
            "Epoch 28/70\n",
            "73/73 [==============================] - ETA: 0s - loss: 0.1541 - accuracy: 0.9360\n",
            "Epoch 28: ReduceLROnPlateau reducing learning rate to 6.24999984211172e-07.\n",
            "73/73 [==============================] - 79s 1s/step - loss: 0.1541 - accuracy: 0.9360 - val_loss: 0.1775 - val_accuracy: 0.9220 - lr: 1.2500e-06\n",
            "Epoch 29/70\n",
            "73/73 [==============================] - 79s 1s/step - loss: 0.1535 - accuracy: 0.9368 - val_loss: 0.1787 - val_accuracy: 0.9210 - lr: 6.2500e-07\n",
            "Epoch 30/70\n",
            "73/73 [==============================] - 79s 1s/step - loss: 0.1530 - accuracy: 0.9372 - val_loss: 0.1738 - val_accuracy: 0.9225 - lr: 6.2500e-07\n",
            "Epoch 31/70\n",
            "73/73 [==============================] - ETA: 0s - loss: 0.1504 - accuracy: 0.9387\n",
            "Epoch 31: ReduceLROnPlateau reducing learning rate to 3.12499992105586e-07.\n",
            "73/73 [==============================] - 79s 1s/step - loss: 0.1504 - accuracy: 0.9387 - val_loss: 0.1803 - val_accuracy: 0.9195 - lr: 6.2500e-07\n",
            "Epoch 32/70\n",
            "73/73 [==============================] - 79s 1s/step - loss: 0.1505 - accuracy: 0.9372 - val_loss: 0.1731 - val_accuracy: 0.9230 - lr: 3.1250e-07\n",
            "Epoch 33/70\n",
            "73/73 [==============================] - 79s 1s/step - loss: 0.1493 - accuracy: 0.9379 - val_loss: 0.1717 - val_accuracy: 0.9235 - lr: 3.1250e-07\n",
            "Epoch 34/70\n",
            "73/73 [==============================] - ETA: 0s - loss: 0.1499 - accuracy: 0.9370\n",
            "Epoch 34: ReduceLROnPlateau reducing learning rate to 1.56249996052793e-07.\n",
            "73/73 [==============================] - 79s 1s/step - loss: 0.1499 - accuracy: 0.9370 - val_loss: 0.1722 - val_accuracy: 0.9230 - lr: 3.1250e-07\n",
            "Epoch 35/70\n",
            "73/73 [==============================] - 79s 1s/step - loss: 0.1486 - accuracy: 0.9372 - val_loss: 0.1742 - val_accuracy: 0.9225 - lr: 1.5625e-07\n",
            "Epoch 36/70\n",
            "73/73 [==============================] - 79s 1s/step - loss: 0.1485 - accuracy: 0.9372 - val_loss: 0.1715 - val_accuracy: 0.9240 - lr: 1.5625e-07\n",
            "Epoch 37/70\n",
            "73/73 [==============================] - ETA: 0s - loss: 0.1487 - accuracy: 0.9377\n",
            "Epoch 37: ReduceLROnPlateau reducing learning rate to 1e-07.\n",
            "73/73 [==============================] - 78s 1s/step - loss: 0.1487 - accuracy: 0.9377 - val_loss: 0.1726 - val_accuracy: 0.9230 - lr: 1.5625e-07\n",
            "Epoch 38/70\n",
            "73/73 [==============================] - 79s 1s/step - loss: 0.1483 - accuracy: 0.9387 - val_loss: 0.1720 - val_accuracy: 0.9245 - lr: 1.0000e-07\n",
            "Epoch 39/70\n",
            "73/73 [==============================] - 79s 1s/step - loss: 0.1480 - accuracy: 0.9398 - val_loss: 0.1722 - val_accuracy: 0.9230 - lr: 1.0000e-07\n",
            "Epoch 40/70\n",
            "73/73 [==============================] - 79s 1s/step - loss: 0.1481 - accuracy: 0.9379 - val_loss: 0.1718 - val_accuracy: 0.9230 - lr: 1.0000e-07\n",
            "Epoch 41/70\n",
            "73/73 [==============================] - 79s 1s/step - loss: 0.1480 - accuracy: 0.9379 - val_loss: 0.1720 - val_accuracy: 0.9230 - lr: 1.0000e-07\n",
            "Epoch 42/70\n",
            "73/73 [==============================] - 79s 1s/step - loss: 0.1482 - accuracy: 0.9379 - val_loss: 0.1717 - val_accuracy: 0.9235 - lr: 1.0000e-07\n",
            "Epoch 43/70\n",
            "73/73 [==============================] - 79s 1s/step - loss: 0.1479 - accuracy: 0.9377 - val_loss: 0.1721 - val_accuracy: 0.9240 - lr: 1.0000e-07\n",
            "Epoch 44/70\n",
            "73/73 [==============================] - 79s 1s/step - loss: 0.1479 - accuracy: 0.9377 - val_loss: 0.1721 - val_accuracy: 0.9225 - lr: 1.0000e-07\n",
            "Epoch 45/70\n",
            "73/73 [==============================] - 79s 1s/step - loss: 0.1478 - accuracy: 0.9381 - val_loss: 0.1715 - val_accuracy: 0.9230 - lr: 1.0000e-07\n",
            "Epoch 46/70\n",
            "73/73 [==============================] - 79s 1s/step - loss: 0.1477 - accuracy: 0.9385 - val_loss: 0.1720 - val_accuracy: 0.9225 - lr: 1.0000e-07\n",
            "Epoch 47/70\n",
            "73/73 [==============================] - 79s 1s/step - loss: 0.1476 - accuracy: 0.9383 - val_loss: 0.1720 - val_accuracy: 0.9235 - lr: 1.0000e-07\n",
            "Epoch 48/70\n",
            "73/73 [==============================] - 79s 1s/step - loss: 0.1475 - accuracy: 0.9392 - val_loss: 0.1714 - val_accuracy: 0.9230 - lr: 1.0000e-07\n",
            "Epoch 49/70\n",
            "73/73 [==============================] - 79s 1s/step - loss: 0.1476 - accuracy: 0.9381 - val_loss: 0.1715 - val_accuracy: 0.9235 - lr: 1.0000e-07\n",
            "Epoch 50/70\n",
            "73/73 [==============================] - 79s 1s/step - loss: 0.1476 - accuracy: 0.9396 - val_loss: 0.1715 - val_accuracy: 0.9235 - lr: 1.0000e-07\n",
            "Epoch 51/70\n",
            "73/73 [==============================] - 79s 1s/step - loss: 0.1473 - accuracy: 0.9392 - val_loss: 0.1722 - val_accuracy: 0.9225 - lr: 1.0000e-07\n",
            "Epoch 52/70\n",
            "73/73 [==============================] - 79s 1s/step - loss: 0.1476 - accuracy: 0.9379 - val_loss: 0.1720 - val_accuracy: 0.9235 - lr: 1.0000e-07\n",
            "Epoch 53/70\n",
            "73/73 [==============================] - 79s 1s/step - loss: 0.1473 - accuracy: 0.9383 - val_loss: 0.1716 - val_accuracy: 0.9230 - lr: 1.0000e-07\n",
            "Epoch 54/70\n",
            "73/73 [==============================] - 79s 1s/step - loss: 0.1472 - accuracy: 0.9379 - val_loss: 0.1713 - val_accuracy: 0.9230 - lr: 1.0000e-07\n",
            "Epoch 55/70\n",
            "73/73 [==============================] - 79s 1s/step - loss: 0.1473 - accuracy: 0.9383 - val_loss: 0.1713 - val_accuracy: 0.9225 - lr: 1.0000e-07\n",
            "Epoch 56/70\n",
            "73/73 [==============================] - 79s 1s/step - loss: 0.1471 - accuracy: 0.9387 - val_loss: 0.1713 - val_accuracy: 0.9230 - lr: 1.0000e-07\n",
            "Epoch 57/70\n",
            "73/73 [==============================] - 79s 1s/step - loss: 0.1472 - accuracy: 0.9390 - val_loss: 0.1724 - val_accuracy: 0.9230 - lr: 1.0000e-07\n",
            "Epoch 58/70\n",
            "73/73 [==============================] - 79s 1s/step - loss: 0.1473 - accuracy: 0.9390 - val_loss: 0.1722 - val_accuracy: 0.9235 - lr: 1.0000e-07\n",
            "Epoch 59/70\n",
            "73/73 [==============================] - 79s 1s/step - loss: 0.1470 - accuracy: 0.9390 - val_loss: 0.1716 - val_accuracy: 0.9235 - lr: 1.0000e-07\n",
            "Epoch 60/70\n",
            "73/73 [==============================] - 79s 1s/step - loss: 0.1469 - accuracy: 0.9394 - val_loss: 0.1718 - val_accuracy: 0.9240 - lr: 1.0000e-07\n",
            "Epoch 61/70\n",
            "73/73 [==============================] - 79s 1s/step - loss: 0.1470 - accuracy: 0.9383 - val_loss: 0.1716 - val_accuracy: 0.9230 - lr: 1.0000e-07\n",
            "Epoch 62/70\n",
            "73/73 [==============================] - 79s 1s/step - loss: 0.1468 - accuracy: 0.9385 - val_loss: 0.1713 - val_accuracy: 0.9235 - lr: 1.0000e-07\n",
            "Epoch 63/70\n",
            "73/73 [==============================] - 79s 1s/step - loss: 0.1468 - accuracy: 0.9394 - val_loss: 0.1715 - val_accuracy: 0.9235 - lr: 1.0000e-07\n",
            "Epoch 64/70\n",
            "73/73 [==============================] - 79s 1s/step - loss: 0.1467 - accuracy: 0.9396 - val_loss: 0.1710 - val_accuracy: 0.9235 - lr: 1.0000e-07\n",
            "Epoch 65/70\n",
            "73/73 [==============================] - 79s 1s/step - loss: 0.1467 - accuracy: 0.9392 - val_loss: 0.1713 - val_accuracy: 0.9235 - lr: 1.0000e-07\n",
            "Epoch 66/70\n",
            "73/73 [==============================] - 79s 1s/step - loss: 0.1466 - accuracy: 0.9400 - val_loss: 0.1716 - val_accuracy: 0.9230 - lr: 1.0000e-07\n",
            "Epoch 67/70\n",
            "73/73 [==============================] - 79s 1s/step - loss: 0.1465 - accuracy: 0.9385 - val_loss: 0.1712 - val_accuracy: 0.9235 - lr: 1.0000e-07\n",
            "Epoch 68/70\n",
            "73/73 [==============================] - 79s 1s/step - loss: 0.1463 - accuracy: 0.9392 - val_loss: 0.1719 - val_accuracy: 0.9230 - lr: 1.0000e-07\n",
            "Epoch 69/70\n",
            "73/73 [==============================] - 79s 1s/step - loss: 0.1465 - accuracy: 0.9387 - val_loss: 0.1721 - val_accuracy: 0.9235 - lr: 1.0000e-07\n",
            "Epoch 70/70\n",
            "73/73 [==============================] - 79s 1s/step - loss: 0.1464 - accuracy: 0.9390 - val_loss: 0.1712 - val_accuracy: 0.9240 - lr: 1.0000e-07\n"
          ]
        }
      ],
      "source": [
        "from tensorflow.keras.applications import vgg16\n",
        "from tensorflow.keras.optimizers import Adam\n",
        "\n",
        "\n",
        "model = vgg16.VGG16(include_top=True,\n",
        "                    weights=None,\n",
        "                    input_tensor=None,\n",
        "                    input_shape=(224,224,3),\n",
        "                    pooling=\"max\",\n",
        "                    classes=2)\n",
        "\n",
        "# Normalize pixel values to be between 0 and 1\n",
        "X_train=X_train/255\n",
        "X_test=X_test/255\n",
        "\n",
        "# Converting the label data into array\n",
        "y_train = np.array(y_train)\n",
        "y_test = np.array(y_test)\n",
        "\n",
        "\n",
        "model.compile(optimizer= Adam(learning_rate = 0.00001),\n",
        "                    loss = tf.keras.losses.SparseCategoricalCrossentropy(from_logits=True),\n",
        "                    metrics=['accuracy'])\n",
        "\n",
        "\n",
        "vgg16 = model.fit(X_train,\n",
        "                        y_train, batch_size=64,\n",
        "                        epochs=70,\n",
        "                        validation_data=(X_test, y_test),\n",
        "                        shuffle=True,verbose = 1,\n",
        "                        callbacks=[learning_rate_reduction,custom_early_stopping])\n"
      ]
    },
    {
      "cell_type": "code",
      "execution_count": null,
      "metadata": {
        "colab": {
          "base_uri": "https://localhost:8080/",
          "height": 300
        },
        "id": "yz8Mi0YoDL68",
        "outputId": "eead88aa-b9a3-4873-b798-4c6cde8ab5c2"
      },
      "outputs": [
        {
          "output_type": "stream",
          "name": "stdout",
          "text": [
            "63/63 - 13s - loss: 0.1712 - accuracy: 0.9240 - 13s/epoch - 204ms/step\n"
          ]
        },
        {
          "output_type": "display_data",
          "data": {
            "text/plain": [
              "<Figure size 432x288 with 1 Axes>"
            ],
            "image/png": "[encoded data removed]"
          },
          "metadata": {
            "needs_background": "light"
          }
        }
      ],
      "source": [
        "plt.plot(vgg16.history['accuracy'], label='accuracy')\n",
        "plt.plot(vgg16.history['val_accuracy'], label = 'val_accuracy')\n",
        "plt.xlabel('Epoch')\n",
        "plt.ylabel('Accuracy')\n",
        "plt.ylim([0.0, 1.2])\n",
        "plt.legend(loc='lower right')\n",
        "\n",
        "\n",
        "test_loss, test_acc = model.evaluate(X_test,  y_test, verbose=2)"
      ]
    },
    {
      "cell_type": "code",
      "execution_count": null,
      "metadata": {
        "colab": {
          "base_uri": "https://localhost:8080/",
          "height": 300
        },
        "id": "EGEfNODrDRLB",
        "outputId": "c91c0a27-0ada-43fa-ec23-5b4feefbe8a2"
      },
      "outputs": [
        {
          "output_type": "stream",
          "name": "stdout",
          "text": [
            "63/63 - 9s - loss: 0.1712 - accuracy: 0.9240 - 9s/epoch - 150ms/step\n"
          ]
        },
        {
          "output_type": "display_data",
          "data": {
            "text/plain": [
              "<Figure size 432x288 with 1 Axes>"
            ],
            "image/png": "[encoded data removed]"
          },
          "metadata": {
            "needs_background": "light"
          }
        }
      ],
      "source": [
        "plt.plot(vgg16.history['loss'], label='loss')\n",
        "plt.plot(vgg16.history['val_loss'], label = 'val_loss')\n",
        "plt.xlabel('Epoch')\n",
        "plt.ylabel('Accuracy')\n",
        "plt.ylim([0, 1])\n",
        "plt.legend(loc='upper left')\n",
        "\n",
        "\n",
        "test_loss, test_acc = model.evaluate(X_test,  y_test, verbose=2)"
      ]
    },
    {
      "cell_type": "code",
      "execution_count": null,
      "metadata": {
        "colab": {
          "base_uri": "https://localhost:8080/"
        },
        "id": "WYRvjBdvbESS",
        "outputId": "a6aa9597-0623-4f1d-ec21-3349bc2f9b7b"
      },
      "outputs": [
        {
          "output_type": "stream",
          "name": "stdout",
          "text": [
            "Epoch 1/50\n"
          ]
        },
        {
          "output_type": "stream",
          "name": "stderr",
          "text": [
            "/usr/local/lib/python3.7/dist-packages/tensorflow/python/util/dispatch.py:1082: UserWarning: \"`sparse_categorical_crossentropy` received `from_logits=True`, but the `output` argument was produced by a sigmoid or softmax activation and thus does not represent logits. Was this intended?\"\n",
            "  return dispatch_target(*args, **kwargs)\n"
          ]
        },
        {
          "output_type": "stream",
          "name": "stdout",
          "text": [
            "73/73 [==============================] - 22s 128ms/step - loss: 0.6690 - accuracy: 0.7186 - val_loss: 0.6189 - val_accuracy: 0.7696 - lr: 1.0000e-04\n",
            "Epoch 2/50\n",
            "73/73 [==============================] - 7s 101ms/step - loss: 0.4765 - accuracy: 0.7910 - val_loss: 0.5226 - val_accuracy: 0.8391 - lr: 1.0000e-04\n",
            "Epoch 3/50\n",
            "73/73 [==============================] - 7s 101ms/step - loss: 0.4373 - accuracy: 0.8218 - val_loss: 0.5162 - val_accuracy: 0.8431 - lr: 1.0000e-04\n",
            "Epoch 4/50\n",
            "73/73 [==============================] - 8s 106ms/step - loss: 0.3866 - accuracy: 0.8486 - val_loss: 0.4646 - val_accuracy: 0.8566 - lr: 1.0000e-04\n",
            "Epoch 5/50\n",
            "73/73 [==============================] - 7s 102ms/step - loss: 0.3452 - accuracy: 0.8661 - val_loss: 0.4176 - val_accuracy: 0.8686 - lr: 1.0000e-04\n",
            "Epoch 6/50\n",
            "73/73 [==============================] - 7s 101ms/step - loss: 0.3248 - accuracy: 0.8786 - val_loss: 0.3984 - val_accuracy: 0.8756 - lr: 1.0000e-04\n",
            "Epoch 7/50\n",
            "73/73 [==============================] - 7s 102ms/step - loss: 0.2932 - accuracy: 0.8933 - val_loss: 0.3860 - val_accuracy: 0.8971 - lr: 1.0000e-04\n",
            "Epoch 8/50\n",
            "73/73 [==============================] - 7s 101ms/step - loss: 0.2922 - accuracy: 0.8921 - val_loss: 0.4265 - val_accuracy: 0.8761 - lr: 1.0000e-04\n",
            "Epoch 9/50\n",
            "73/73 [==============================] - 7s 101ms/step - loss: 0.2727 - accuracy: 0.8987 - val_loss: 0.3930 - val_accuracy: 0.8941 - lr: 1.0000e-04\n",
            "Epoch 10/50\n",
            "73/73 [==============================] - ETA: 0s - loss: 0.2730 - accuracy: 0.8955\n",
            "Epoch 10: ReduceLROnPlateau reducing learning rate to 4.999999873689376e-05.\n",
            "73/73 [==============================] - 7s 101ms/step - loss: 0.2730 - accuracy: 0.8955 - val_loss: 0.4429 - val_accuracy: 0.8711 - lr: 1.0000e-04\n",
            "Epoch 11/50\n",
            "73/73 [==============================] - 7s 101ms/step - loss: 0.2572 - accuracy: 0.9034 - val_loss: 0.4070 - val_accuracy: 0.8901 - lr: 5.0000e-05\n",
            "Epoch 12/50\n",
            "73/73 [==============================] - 7s 101ms/step - loss: 0.2345 - accuracy: 0.9152 - val_loss: 0.5349 - val_accuracy: 0.8031 - lr: 5.0000e-05\n",
            "Epoch 13/50\n",
            "73/73 [==============================] - ETA: 0s - loss: 0.2315 - accuracy: 0.9135\n",
            "Epoch 13: ReduceLROnPlateau reducing learning rate to 2.499999936844688e-05.\n",
            "73/73 [==============================] - 7s 102ms/step - loss: 0.2315 - accuracy: 0.9135 - val_loss: 0.4575 - val_accuracy: 0.8461 - lr: 5.0000e-05\n",
            "Epoch 14/50\n",
            "73/73 [==============================] - 7s 102ms/step - loss: 0.2345 - accuracy: 0.9115 - val_loss: 0.4417 - val_accuracy: 0.8456 - lr: 2.5000e-05\n",
            "Epoch 15/50\n",
            "73/73 [==============================] - 7s 101ms/step - loss: 0.2348 - accuracy: 0.9208 - val_loss: 0.4267 - val_accuracy: 0.8646 - lr: 2.5000e-05\n",
            "Epoch 16/50\n",
            "73/73 [==============================] - ETA: 0s - loss: 0.2213 - accuracy: 0.9171\n",
            "Epoch 16: ReduceLROnPlateau reducing learning rate to 1.249999968422344e-05.\n",
            "73/73 [==============================] - 8s 103ms/step - loss: 0.2213 - accuracy: 0.9171 - val_loss: 0.4149 - val_accuracy: 0.8781 - lr: 2.5000e-05\n",
            "Epoch 17/50\n",
            "73/73 [==============================] - 7s 102ms/step - loss: 0.2210 - accuracy: 0.9188 - val_loss: 0.4163 - val_accuracy: 0.8636 - lr: 1.2500e-05\n"
          ]
        }
      ],
      "source": [
        "CNN_model = Sequential()\n",
        "CNN_model.add(layers.Conv2D(64,(3,3),padding=\"same\",activation=\"relu\",\n",
        "                        kernel_initializer=\"glorot_uniform\",input_shape=(224,224,3)))\n",
        "CNN_model.add(layers.MaxPooling2D((2,2)))\n",
        "CNN_model.add(BatchNormalization())\n",
        "CNN_model.add(Dropout(0.5))\n",
        "\n",
        "CNN_model.add(layers.Conv2D(64,(3,3),padding=\"same\",activation=\"relu\",\n",
        "                        kernel_initializer=\"glorot_uniform\"))\n",
        "CNN_model.add(BatchNormalization())\n",
        "CNN_model.add(layers.MaxPooling2D((2,2)))\n",
        "\n",
        "CNN_model.add(layers.Conv2D(64,(3,3),padding=\"same\",activation=\"relu\",\n",
        "                        kernel_initializer=\"glorot_uniform\"))\n",
        "CNN_model.add(layers.MaxPooling2D((2,2)))\n",
        "\n",
        "CNN_model.add(layers.Flatten())\n",
        "\n",
        "CNN_model.add(layers.Dense(128,activation=\"relu\",kernel_initializer=\"normal\"))\n",
        "CNN_model.add(BatchNormalization())\n",
        "CNN_model.add(Dropout(0.5))\n",
        "CNN_model.add(layers.Dense(2,activation=\"softmax\"))\n",
        "\n",
        "\n",
        "\n",
        "\n",
        "CNN_model.compile(optimizer= Adam(learning_rate = 0.0001),\n",
        "                    loss = tf.keras.losses.SparseCategoricalCrossentropy(from_logits=True),\n",
        "                    metrics=['accuracy'])\n",
        "\n",
        "learning_CNN_reduction = ReduceLROnPlateau(monitor='val_accuracy',\n",
        "                                            patience=3,\n",
        "                                            verbose=1,\n",
        "                                            factor=0.5,\n",
        "                                            min_lr=1e-7)\n",
        "\n",
        "# Normalize pixel values to be between 0 and 1\n",
        "X_train=X_train/255\n",
        "X_test=X_test/255\n",
        "\n",
        "# Converting the label data into array\n",
        "y_train = np.array(y_train)\n",
        "y_test = np.array(y_test)\n",
        "\n",
        "CNN = CNN_model.fit(X_train, y_train,\n",
        "                       batch_size= 64, epochs= 50,\n",
        "                    validation_data = (X_test, y_test),verbose = 1,\n",
        "                    callbacks=[learning_CNN_reduction,custom_early_stopping])\n",
        "\n"
      ]
    },
    {
      "cell_type": "code",
      "execution_count": null,
      "metadata": {
        "colab": {
          "base_uri": "https://localhost:8080/",
          "height": 300
        },
        "id": "adC6OpeXgjiT",
        "outputId": "566d4ac5-c877-4b45-ba33-f75a647523cb"
      },
      "outputs": [
        {
          "output_type": "stream",
          "name": "stdout",
          "text": [
            "63/63 - 2s - loss: 0.3466 - accuracy: 0.8971 - 2s/epoch - 30ms/step\n"
          ]
        },
        {
          "output_type": "display_data",
          "data": {
            "text/plain": [
              "<Figure size 432x288 with 1 Axes>"
            ],
            "image/png": "[encoded data removed]"
          },
          "metadata": {
            "needs_background": "light"
          }
        }
      ],
      "source": [
        "plt.plot(CNN.history['accuracy'], label='accuracy')\n",
        "plt.plot(CNN.history['val_accuracy'], label = 'val_accuracy')\n",
        "plt.xlabel('Epoch')\n",
        "plt.ylabel('Accuracy')\n",
        "plt.ylim([0.0, 1.2])\n",
        "plt.legend(loc='lower right')\n",
        "\n",
        "\n",
        "test_loss, test_acc = CNN_model.evaluate(X_test,  y_test, verbose=2)"
      ]
    },
    {
      "cell_type": "code",
      "execution_count": null,
      "metadata": {
        "colab": {
          "base_uri": "https://localhost:8080/",
          "height": 296
        },
        "id": "WvVx5M-4gzbM",
        "outputId": "c30ffd2c-54c5-4a22-c821-43f81468a37a"
      },
      "outputs": [
        {
          "output_type": "stream",
          "name": "stdout",
          "text": [
            "63/63 - 1s - loss: 0.3466 - accuracy: 0.8971 - 1s/epoch - 20ms/step\n"
          ]
        },
        {
          "output_type": "display_data",
          "data": {
            "text/plain": [
              "<Figure size 432x288 with 1 Axes>"
            ],
            "image/png": "[encoded data removed]"
          },
          "metadata": {
            "needs_background": "light"
          }
        }
      ],
      "source": [
        "plt.plot(CNN.history['loss'], label='loss')\n",
        "plt.plot(CNN.history['val_loss'], label = 'val_loss')\n",
        "plt.xlabel('Epoch')\n",
        "plt.ylabel('Accuracy')\n",
        "plt.ylim([0.0, 1.5])\n",
        "plt.legend(loc='lower right')\n",
        "\n",
        "\n",
        "test_loss, test_acc = CNN_model.evaluate(X_test,  y_test, verbose=2)"
      ]
    },
    {
      "cell_type": "code",
      "execution_count": null,
      "metadata": {
        "colab": {
          "base_uri": "https://localhost:8080/"
        },
        "id": "iRYS-N43DU15",
        "outputId": "206fc700-2c4a-4678-a9fc-059e4e4c1986"
      },
      "outputs": [
        {
          "output_type": "stream",
          "name": "stdout",
          "text": [
            "Epoch 1/50\n"
          ]
        },
        {
          "output_type": "stream",
          "name": "stderr",
          "text": [
            "/usr/local/lib/python3.7/dist-packages/tensorflow/python/util/dispatch.py:1082: UserWarning: \"`sparse_categorical_crossentropy` received `from_logits=True`, but the `output` argument was produced by a sigmoid or softmax activation and thus does not represent logits. Was this intended?\"\n",
            "  return dispatch_target(*args, **kwargs)\n"
          ]
        },
        {
          "output_type": "stream",
          "name": "stdout",
          "text": [
            "73/73 [==============================] - 57s 682ms/step - loss: 0.3651 - accuracy: 0.8627 - val_loss: 1.1368 - val_accuracy: 0.2444 - lr: 1.0000e-04\n",
            "Epoch 2/50\n",
            "73/73 [==============================] - 47s 644ms/step - loss: 0.2658 - accuracy: 0.8908 - val_loss: 0.7628 - val_accuracy: 0.2444 - lr: 1.0000e-04\n",
            "Epoch 3/50\n",
            "73/73 [==============================] - 47s 635ms/step - loss: 0.2785 - accuracy: 0.8861 - val_loss: 1.0262 - val_accuracy: 0.2444 - lr: 1.0000e-04\n",
            "Epoch 4/50\n",
            "73/73 [==============================] - ETA: 0s - loss: 0.2560 - accuracy: 0.8993\n",
            "Epoch 4: ReduceLROnPlateau reducing learning rate to 4.999999873689376e-05.\n",
            "73/73 [==============================] - 47s 639ms/step - loss: 0.2560 - accuracy: 0.8993 - val_loss: 2.9338 - val_accuracy: 0.2444 - lr: 1.0000e-04\n",
            "Epoch 5/50\n",
            "73/73 [==============================] - 47s 635ms/step - loss: 0.2380 - accuracy: 0.8996 - val_loss: 1.2703 - val_accuracy: 0.2444 - lr: 5.0000e-05\n",
            "Epoch 6/50\n",
            "73/73 [==============================] - 46s 633ms/step - loss: 0.2236 - accuracy: 0.9068 - val_loss: 0.9342 - val_accuracy: 0.2444 - lr: 5.0000e-05\n",
            "Epoch 7/50\n",
            "73/73 [==============================] - ETA: 0s - loss: 0.2240 - accuracy: 0.9064\n",
            "Epoch 7: ReduceLROnPlateau reducing learning rate to 2.499999936844688e-05.\n",
            "73/73 [==============================] - 47s 643ms/step - loss: 0.2240 - accuracy: 0.9064 - val_loss: 1.4419 - val_accuracy: 0.2444 - lr: 5.0000e-05\n",
            "Epoch 8/50\n",
            "73/73 [==============================] - 47s 645ms/step - loss: 0.2095 - accuracy: 0.9124 - val_loss: 0.9743 - val_accuracy: 0.2764 - lr: 2.5000e-05\n",
            "Epoch 9/50\n",
            "73/73 [==============================] - 47s 641ms/step - loss: 0.2063 - accuracy: 0.9118 - val_loss: 0.6179 - val_accuracy: 0.6597 - lr: 2.5000e-05\n",
            "Epoch 10/50\n",
            "73/73 [==============================] - 47s 638ms/step - loss: 0.1993 - accuracy: 0.9152 - val_loss: 0.7626 - val_accuracy: 0.4893 - lr: 2.5000e-05\n",
            "Epoch 11/50\n",
            "73/73 [==============================] - 47s 637ms/step - loss: 0.1946 - accuracy: 0.9195 - val_loss: 1.7152 - val_accuracy: 0.2329 - lr: 2.5000e-05\n",
            "Epoch 12/50\n",
            "73/73 [==============================] - 47s 636ms/step - loss: 0.1973 - accuracy: 0.9212 - val_loss: 0.6602 - val_accuracy: 0.7541 - lr: 2.5000e-05\n",
            "Epoch 13/50\n",
            "73/73 [==============================] - 47s 641ms/step - loss: 0.1910 - accuracy: 0.9214 - val_loss: 0.4470 - val_accuracy: 0.8226 - lr: 2.5000e-05\n",
            "Epoch 14/50\n",
            "73/73 [==============================] - 47s 640ms/step - loss: 0.1940 - accuracy: 0.9175 - val_loss: 0.8865 - val_accuracy: 0.7476 - lr: 2.5000e-05\n",
            "Epoch 15/50\n",
            "73/73 [==============================] - 52s 710ms/step - loss: 0.1977 - accuracy: 0.9148 - val_loss: 0.4690 - val_accuracy: 0.7951 - lr: 2.5000e-05\n",
            "Epoch 16/50\n",
            "73/73 [==============================] - ETA: 0s - loss: 0.1955 - accuracy: 0.9141\n",
            "Epoch 16: ReduceLROnPlateau reducing learning rate to 1.249999968422344e-05.\n",
            "73/73 [==============================] - 50s 684ms/step - loss: 0.1955 - accuracy: 0.9141 - val_loss: 0.9916 - val_accuracy: 0.7566 - lr: 2.5000e-05\n",
            "Epoch 17/50\n",
            "73/73 [==============================] - 47s 635ms/step - loss: 0.1760 - accuracy: 0.9265 - val_loss: 0.5204 - val_accuracy: 0.7861 - lr: 1.2500e-05\n",
            "Epoch 18/50\n",
            "73/73 [==============================] - 47s 634ms/step - loss: 0.1710 - accuracy: 0.9261 - val_loss: 0.2803 - val_accuracy: 0.8816 - lr: 1.2500e-05\n",
            "Epoch 19/50\n",
            "73/73 [==============================] - 46s 623ms/step - loss: 0.1736 - accuracy: 0.9261 - val_loss: 0.2452 - val_accuracy: 0.9000 - lr: 1.2500e-05\n",
            "Epoch 20/50\n",
            "73/73 [==============================] - 46s 627ms/step - loss: 0.1711 - accuracy: 0.9283 - val_loss: 0.2735 - val_accuracy: 0.8926 - lr: 1.2500e-05\n",
            "Epoch 21/50\n",
            "73/73 [==============================] - 49s 670ms/step - loss: 0.1756 - accuracy: 0.9278 - val_loss: 0.2656 - val_accuracy: 0.8831 - lr: 1.2500e-05\n",
            "Epoch 22/50\n",
            "73/73 [==============================] - ETA: 0s - loss: 0.1725 - accuracy: 0.9274\n",
            "Epoch 22: ReduceLROnPlateau reducing learning rate to 6.24999984211172e-06.\n",
            "73/73 [==============================] - 47s 643ms/step - loss: 0.1725 - accuracy: 0.9274 - val_loss: 0.2563 - val_accuracy: 0.8931 - lr: 1.2500e-05\n",
            "Epoch 23/50\n",
            "73/73 [==============================] - 47s 644ms/step - loss: 0.1662 - accuracy: 0.9327 - val_loss: 0.1982 - val_accuracy: 0.9140 - lr: 6.2500e-06\n",
            "Epoch 24/50\n",
            "73/73 [==============================] - 47s 641ms/step - loss: 0.1589 - accuracy: 0.9353 - val_loss: 0.2183 - val_accuracy: 0.9080 - lr: 6.2500e-06\n",
            "Epoch 25/50\n",
            "73/73 [==============================] - 47s 640ms/step - loss: 0.1547 - accuracy: 0.9385 - val_loss: 0.2364 - val_accuracy: 0.9030 - lr: 6.2500e-06\n",
            "Epoch 26/50\n",
            "73/73 [==============================] - ETA: 0s - loss: 0.1611 - accuracy: 0.9325\n",
            "Epoch 26: ReduceLROnPlateau reducing learning rate to 3.12499992105586e-06.\n",
            "73/73 [==============================] - 47s 641ms/step - loss: 0.1611 - accuracy: 0.9325 - val_loss: 0.2474 - val_accuracy: 0.8996 - lr: 6.2500e-06\n",
            "Epoch 27/50\n",
            "73/73 [==============================] - 47s 643ms/step - loss: 0.1640 - accuracy: 0.9308 - val_loss: 0.2080 - val_accuracy: 0.9095 - lr: 3.1250e-06\n",
            "Epoch 28/50\n",
            "73/73 [==============================] - 47s 643ms/step - loss: 0.1530 - accuracy: 0.9375 - val_loss: 0.1904 - val_accuracy: 0.9220 - lr: 3.1250e-06\n",
            "Epoch 29/50\n",
            "73/73 [==============================] - 47s 642ms/step - loss: 0.1551 - accuracy: 0.9368 - val_loss: 0.1977 - val_accuracy: 0.9150 - lr: 3.1250e-06\n",
            "Epoch 30/50\n",
            "73/73 [==============================] - 47s 640ms/step - loss: 0.1584 - accuracy: 0.9321 - val_loss: 0.1969 - val_accuracy: 0.9170 - lr: 3.1250e-06\n",
            "Epoch 31/50\n",
            "73/73 [==============================] - ETA: 0s - loss: 0.1595 - accuracy: 0.9321\n",
            "Epoch 31: ReduceLROnPlateau reducing learning rate to 1.56249996052793e-06.\n",
            "73/73 [==============================] - 47s 636ms/step - loss: 0.1595 - accuracy: 0.9321 - val_loss: 0.1912 - val_accuracy: 0.9190 - lr: 3.1250e-06\n",
            "Epoch 32/50\n",
            "73/73 [==============================] - 47s 637ms/step - loss: 0.1538 - accuracy: 0.9364 - val_loss: 0.1869 - val_accuracy: 0.9190 - lr: 1.5625e-06\n",
            "Epoch 33/50\n",
            "73/73 [==============================] - 47s 638ms/step - loss: 0.1537 - accuracy: 0.9351 - val_loss: 0.1834 - val_accuracy: 0.9165 - lr: 1.5625e-06\n",
            "Epoch 34/50\n",
            "73/73 [==============================] - ETA: 0s - loss: 0.1501 - accuracy: 0.9383\n",
            "Epoch 34: ReduceLROnPlateau reducing learning rate to 7.81249980263965e-07.\n",
            "73/73 [==============================] - 47s 637ms/step - loss: 0.1501 - accuracy: 0.9383 - val_loss: 0.1913 - val_accuracy: 0.9190 - lr: 1.5625e-06\n",
            "Epoch 35/50\n",
            "73/73 [==============================] - 47s 642ms/step - loss: 0.1501 - accuracy: 0.9398 - val_loss: 0.1920 - val_accuracy: 0.9190 - lr: 7.8125e-07\n",
            "Epoch 36/50\n",
            "73/73 [==============================] - 47s 638ms/step - loss: 0.1449 - accuracy: 0.9381 - val_loss: 0.1889 - val_accuracy: 0.9205 - lr: 7.8125e-07\n",
            "Epoch 37/50\n",
            "73/73 [==============================] - ETA: 0s - loss: 0.1394 - accuracy: 0.9426\n",
            "Epoch 37: ReduceLROnPlateau reducing learning rate to 3.906249901319825e-07.\n",
            "73/73 [==============================] - 47s 635ms/step - loss: 0.1394 - accuracy: 0.9426 - val_loss: 0.1898 - val_accuracy: 0.9205 - lr: 7.8125e-07\n",
            "Epoch 38/50\n",
            "73/73 [==============================] - 47s 641ms/step - loss: 0.1495 - accuracy: 0.9383 - val_loss: 0.1894 - val_accuracy: 0.9205 - lr: 3.9062e-07\n",
            "Epoch 39/50\n",
            "73/73 [==============================] - 47s 640ms/step - loss: 0.1443 - accuracy: 0.9420 - val_loss: 0.1868 - val_accuracy: 0.9205 - lr: 3.9062e-07\n",
            "Epoch 40/50\n",
            "73/73 [==============================] - ETA: 0s - loss: 0.1453 - accuracy: 0.9377\n",
            "Epoch 40: ReduceLROnPlateau reducing learning rate to 1.9531249506599124e-07.\n",
            "73/73 [==============================] - 47s 638ms/step - loss: 0.1453 - accuracy: 0.9377 - val_loss: 0.1858 - val_accuracy: 0.9200 - lr: 3.9062e-07\n",
            "Epoch 41/50\n",
            "73/73 [==============================] - 47s 637ms/step - loss: 0.1434 - accuracy: 0.9413 - val_loss: 0.1871 - val_accuracy: 0.9220 - lr: 1.9531e-07\n",
            "Epoch 42/50\n",
            "73/73 [==============================] - 47s 638ms/step - loss: 0.1510 - accuracy: 0.9385 - val_loss: 0.1860 - val_accuracy: 0.9210 - lr: 1.9531e-07\n",
            "Epoch 43/50\n",
            "73/73 [==============================] - ETA: 0s - loss: 0.1481 - accuracy: 0.9377\n",
            "Epoch 43: ReduceLROnPlateau reducing learning rate to 1e-07.\n",
            "73/73 [==============================] - 47s 638ms/step - loss: 0.1481 - accuracy: 0.9377 - val_loss: 0.1871 - val_accuracy: 0.9200 - lr: 1.9531e-07\n"
          ]
        }
      ],
      "source": [
        "from tensorflow.keras.applications.resnet50 import ResNet50\n",
        "\n",
        "# Define model with different applications\n",
        "resnet_model = Sequential()\n",
        "resnet_model.add(ResNet50(include_top=True,\n",
        "                   input_tensor=None,\n",
        "                   input_shape=(224,224,3),\n",
        "                   pooling='max',\n",
        "                   classes=2,\n",
        "                   weights= None))\n",
        "\n",
        "\n",
        "# Normalize pixel values to be between 0 and 1\n",
        "X_train=X_train/255\n",
        "X_test=X_test/255\n",
        "\n",
        "# Converting the label da ta into array\n",
        "y_train = np.array(y_train)\n",
        "y_test = np.array(y_test)\n",
        "\n",
        "\n",
        "resnet_model.compile(optimizer= Adam(learning_rate= 0.0001),\n",
        "                    loss = tf.keras.losses.SparseCategoricalCrossentropy(from_logits=True),\n",
        "                    metrics\n",
        "                     =['accuracy'])\n",
        "\n",
        "\n",
        "learning_resnet_reduction = ReduceLROnPlateau(monitor='val_accuracy',\n",
        "                                            patience=3,\n",
        "                                            verbose=1,\n",
        "                                            factor=0.5,\n",
        "                                            min_lr=1e-7)\n",
        "\n",
        "batch_size=64\n",
        "epochs=50\n",
        "history =  resnet_model.fit (datagen.flow(X_train, y_train, batch_size=batch_size),\n",
        "                              epochs=epochs,\n",
        "                              verbose=1,shuffle = True,\n",
        "                              validation_data =(X_test,y_test),\n",
        "                              callbacks=[learning_resnet_reduction,custom_early_stopping]\n",
        "                              )\n"
      ]
    },
    {
      "cell_type": "code",
      "execution_count": null,
      "metadata": {
        "colab": {
          "base_uri": "https://localhost:8080/",
          "height": 296
        },
        "id": "aDgzR9gesPwM",
        "outputId": "8e8773d8-ae6d-4206-a3f8-4a5ccc2a13c2"
      },
      "outputs": [
        {
          "output_type": "stream",
          "name": "stdout",
          "text": [
            "63/63 - 3s - loss: 0.2234 - accuracy: 0.9140 - 3s/epoch - 54ms/step\n"
          ]
        },
        {
          "output_type": "display_data",
          "data": {
            "text/plain": [
              "<Figure size 432x288 with 1 Axes>"
            ],
            "image/png": "[encoded data removed]"
          },
          "metadata": {
            "needs_background": "light"
          }
        }
      ],
      "source": [
        "plt.plot(history.history['accuracy'], label='accuracy')\n",
        "plt.plot(history.history['val_accuracy'], label = 'val_accuracy')\n",
        "plt.xlabel('Epoch')\n",
        "plt.ylabel('Accuracy')\n",
        "plt.ylim([0.0, 1.25])\n",
        "plt.legend(loc='lower right')\n",
        "\n",
        "\n",
        "test_loss, test_acc = resnet_model.evaluate(X_test,  y_test, verbose=2)"
      ]
    },
    {
      "cell_type": "code",
      "execution_count": null,
      "metadata": {
        "colab": {
          "base_uri": "https://localhost:8080/",
          "height": 300
        },
        "id": "eiKKPU2V0Pwh",
        "outputId": "b4a3c399-b56d-49c6-d42c-1f1d8c84f029"
      },
      "outputs": [
        {
          "output_type": "stream",
          "name": "stdout",
          "text": [
            "63/63 - 3s - loss: 0.2234 - accuracy: 0.9140 - 3s/epoch - 54ms/step\n"
          ]
        },
        {
          "output_type": "display_data",
          "data": {
            "text/plain": [
              "<Figure size 432x288 with 1 Axes>"
            ],
            "image/png": "[encoded data removed]"
          },
          "metadata": {
            "needs_background": "light"
          }
        }
      ],
      "source": [
        "plt.plot(history.history['loss'], label='loss')\n",
        "plt.plot(history.history['val_loss'], label = 'val_loss')\n",
        "plt.xlabel('Epoch')\n",
        "plt.ylabel('Accuracy')\n",
        "plt.ylim([0, 3])\n",
        "plt.legend(loc='upper right')\n",
        "\n",
        "\n",
        "test_loss, res_acc = resnet_model.evaluate(X_test,  y_test, verbose=2)"
      ]
    },
    {
      "cell_type": "code",
      "execution_count": null,
      "metadata": {
        "id": "7tTA4PnyTqDP"
      },
      "outputs": [],
      "source": [
        "'''import os.path\n",
        "if os.path.isfile('/content/drive/MyDrive/modelVGGnew.h5') is False:\n",
        "   model.save('/content/drive/MyDrive/modelVGGnew.h5')'''"
      ]
    },
    {
      "cell_type": "code",
      "source": [
        "img_array = cv2.imread('/content/10.jpg')\n",
        "\n",
        "y = np.array(img_array).reshape(-1,224,224,3)\n",
        "v = model.predict(y) #vgg model predict"
      ],
      "metadata": {
        "id": "Hqry6nP-MPxd"
      },
      "execution_count": null,
      "outputs": []
    },
    {
      "cell_type": "code",
      "source": [
        "img_array = cv2.imread('/content/10.jpg')\n",
        "\n",
        "y = np.array(img_array).reshape(-1,224,224,3)\n",
        "c = CNN_model.predict(y) #cnn model predict\n",
        "print(c)"
      ],
      "metadata": {
        "id": "_Q-1O8v1MO6C",
        "colab": {
          "base_uri": "https://localhost:8080/"
        },
        "outputId": "12189bdd-a7b8-4f73-be3c-34a41613ddc3"
      },
      "execution_count": null,
      "outputs": [
        {
          "output_type": "stream",
          "name": "stdout",
          "text": [
            "[[1. 0.]]\n"
          ]
        }
      ]
    },
    {
      "cell_type": "code",
      "source": [
        "img_array = cv2.imread('/content/10.jpg')\n",
        "\n",
        "y = np.array(img_array).reshape(-1,224,224,3)\n",
        "r = resnet_model.predict(y) #resnet model predict"
      ],
      "metadata": {
        "id": "FgfIXEmvaKLq"
      },
      "execution_count": null,
      "outputs": []
    },
    {
      "cell_type": "code",
      "execution_count": null,
      "metadata": {
        "id": "nSdIP1GPs3xh"
      },
      "outputs": [],
      "source": [
        "'''from tensorflow.keras.models import load_model\n",
        "new_vgg = load_model('/content/drive/MyDrive/modelVGGnew.h5')\n",
        "new_resnet = load_model('/content/drive/MyDrive/modelRESnew.h5')\n",
        "new_cnn = load_model('/content/drive/MyDrive/modelCNNnew.h5')'''"
      ]
    },
    {
      "cell_type": "code",
      "execution_count": null,
      "metadata": {
        "colab": {
          "base_uri": "https://localhost:8080/"
        },
        "id": "oy4wLMhRwtB8",
        "outputId": "7fb66b7c-ab85-4e88-846e-f53582d8eb4a"
      },
      "outputs": [
        {
          "output_type": "stream",
          "name": "stderr",
          "text": [
            "/usr/local/lib/python3.7/dist-packages/tensorflow/python/util/dispatch.py:1082: UserWarning: \"`sparse_categorical_crossentropy` received `from_logits=True`, but the `output` argument was produced by a sigmoid or softmax activation and thus does not represent logits. Was this intended?\"\n",
            "  return dispatch_target(*args, **kwargs)\n"
          ]
        },
        {
          "output_type": "stream",
          "name": "stdout",
          "text": [
            "63/63 [==============================] - 2s 18ms/step - loss: 8946.0557 - accuracy: 0.2634\n",
            "63/63 [==============================] - 5s 81ms/step - loss: 0.2307 - accuracy: 0.9080\n",
            "63/63 [==============================] - 5s 59ms/step - loss: 0.2234 - accuracy: 0.9140\n"
          ]
        }
      ],
      "source": [
        "'''new_c = new_cnn.evaluate(X_test,y_test)\n",
        "new_v = new_vgg.evaluate(X_test,y_test)\n",
        "new_res = new_resnet.evaluate(X_test,y_test)'''"
      ]
    },
    {
      "cell_type": "code",
      "source": [
        "CNN_model.load_weight('/content/drive/MyDrive/cnn_weights.h5')"
      ],
      "metadata": {
        "colab": {
          "base_uri": "https://localhost:8080/",
          "height": 165
        },
        "id": "i6OQuzLXACDe",
        "outputId": "ebadce57-6332-4578-8c78-e1c81b354916"
      },
      "execution_count": null,
      "outputs": [
        {
          "output_type": "error",
          "ename": "AttributeError",
          "evalue": "ignored",
          "traceback": [
            "\u001b[0;31m---------------------------------------------------------------------------\u001b[0m",
            "\u001b[0;31mAttributeError\u001b[0m                            Traceback (most recent call last)",
            "\u001b[0;32m<ipython-input-20-beddd112a62d>\u001b[0m in \u001b[0;36m<module>\u001b[0;34m()\u001b[0m\n\u001b[0;32m----> 1\u001b[0;31m \u001b[0mCNN_model\u001b[0m\u001b[0;34m.\u001b[0m\u001b[0mload_weight\u001b[0m\u001b[0;34m(\u001b[0m\u001b[0;34m'/content/drive/MyDrive/cnn_weights.h5'\u001b[0m\u001b[0;34m)\u001b[0m\u001b[0;34m\u001b[0m\u001b[0;34m\u001b[0m\u001b[0m\n\u001b[0m",
            "\u001b[0;31mAttributeError\u001b[0m: 'Sequential' object has no attribute 'load_weight'"
          ]
        }
      ]
    },
    {
      "cell_type": "code",
      "execution_count": null,
      "metadata": {
        "colab": {
          "base_uri": "https://localhost:8080/"
        },
        "id": "9_i4PouGxItz",
        "outputId": "cf985e86-3fc4-4e63-fcdb-f178d6d2f5b6"
      },
      "outputs": [
        {
          "output_type": "stream",
          "name": "stdout",
          "text": [
            "0.7136187778740394\n"
          ]
        }
      ],
      "source": [
        "WA = (() * 0.84) + (new_res[1] * 0.87) + (new_c[1] * 0.75))/(0.84 + 0.87 + 0.75)\n",
        "print(WA)"
      ]
    },
    {
      "cell_type": "code",
      "source": [
        "d = {0:'benign',1:'malignant'}\n",
        "if v =="
      ],
      "metadata": {
        "id": "uJwCk24rk_ke"
      },
      "execution_count": null,
      "outputs": []
    }
  ],
  "metadata": {
    "accelerator": "GPU",
    "colab": {
      "machine_shape": "hm",
      "provenance": []
    },
    "gpuClass": "standard",
    "kernelspec": {
      "display_name": "Python 3",
      "name": "python3"
    },
    "language_info": {
      "name": "python"
    }
  },
  "nbformat": 4,
  "nbformat_minor": 0
}